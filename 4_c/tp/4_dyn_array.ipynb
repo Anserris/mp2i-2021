{
 "cells": [
  {
   "cell_type": "markdown",
   "id": "88de6656-b1cb-47b8-b6bd-569f0f5ddf63",
   "metadata": {},
   "source": [
    "# TP 4 : Tableaux dynamiques\n",
    "\n",
    "On considère la structure suivante de tableau dynamique :"
   ]
  },
  {
   "cell_type": "code",
   "execution_count": 1,
   "id": "011131fd-4465-4ca8-80b3-004cffcf86fa",
   "metadata": {
    "tags": []
   },
   "outputs": [],
   "source": [
    "struct darray {\n",
    "    int* t; // tableau utilisé pour stocker les éléments\n",
    "    int size; // nombre d'éléments\n",
    "    int capacity; // taille de t\n",
    "};\n",
    "\n",
    "typedef struct darray darray;"
   ]
  },
  {
   "cell_type": "markdown",
   "id": "f87d4ee7-8f8d-4954-aaec-284c41227eb4",
   "metadata": {},
   "source": [
    "On a toujours `size` $\\leq$ `capacity` et les éléments après l'indice `size` sont ignorés (ils sont juste là pour avoir de la place pour les prochaines insertions)."
   ]
  },
  {
   "cell_type": "markdown",
   "id": "05a0de06-c39f-4747-b319-79dacdeb2e44",
   "metadata": {
    "tags": [
     "exo"
    ]
   },
   "source": [
    "**Exercice** : Écrire une fonction `empty` de prototype `darray* empty()` renvoyant un pointeur sur un `darray` vide (avec `t`, `size`, `¢apacity` égaux à `NULL`, `0`, `0`, respectivement)."
   ]
  },
  {
   "cell_type": "code",
   "execution_count": 2,
   "id": "5bbd516d-518e-4642-84f4-d093fa1419ba",
   "metadata": {},
   "outputs": [],
   "source": [
    "darray* empty(){\n",
    "    darray* darray_vide = (darray*)malloc(sizeof(darray));\n",
    "    darray_vide->t=NULL;\n",
    "    darray_vide->size = 0;\n",
    "    darray_vide->capacity = 0;\n",
    "    return darray_vide;\n",
    "}"
   ]
  },
  {
   "cell_type": "markdown",
   "id": "66e888fb-0210-4957-b605-b49023241ef6",
   "metadata": {
    "tags": [
     "exo"
    ]
   },
   "source": [
    "**Exercice** : Écrire une fonction `void print_darray(darray*)` permettant d'afficher les éléments d'un `darray`."
   ]
  },
  {
   "cell_type": "code",
   "execution_count": 3,
   "id": "73df37ec-b3b8-41ca-9e98-b7cace435e4c",
   "metadata": {},
   "outputs": [],
   "source": [
    "void print_darray(darray* d){\n",
    "    for(int i =0;i<(d->size);i++){\n",
    "        printf(\"%d \",d->t[i]);\n",
    "    }\n",
    "}"
   ]
  },
  {
   "cell_type": "code",
   "execution_count": 4,
   "id": "6c01a261-0dcd-4c46-9a92-38d1491bdeaa",
   "metadata": {},
   "outputs": [
    {
     "name": "stdout",
     "output_type": "stream",
     "text": [
      "1 2 3 4 5 "
     ]
    }
   ],
   "source": [
    "int tab[] = {1,2,3,4,5};\n",
    "darray* dar = empty();\n",
    "dar->t=tab;\n",
    "dar->size=5;\n",
    "dar->capacity=5;\n",
    "print_darray(dar)"
   ]
  },
  {
   "cell_type": "markdown",
   "id": "e265ccf0-052f-4766-acdd-c765681d5c55",
   "metadata": {
    "tags": [
     "exo"
    ]
   },
   "source": [
    "**Exercice** : Écrire une fonction `copy` de prototype `void copy(int*, int*, n)` telle que `copy(t1, t2, n)` recopie les `n` premiers éléments du tableau `t1` dans le tableau `t2`."
   ]
  },
  {
   "cell_type": "code",
   "execution_count": 5,
   "id": "ac406de3-12ff-4335-acd1-a94ce9bf1a5a",
   "metadata": {},
   "outputs": [],
   "source": [
    "void copy(int*t1,int*t2,int n){\n",
    "    for(int i=0;i<n;i++){\n",
    "        t2[i]=t1[i];\n",
    "    }\n",
    "}"
   ]
  },
  {
   "cell_type": "markdown",
   "id": "afc51c01-a946-413a-9c85-cf921fb084af",
   "metadata": {
    "tags": [
     "exo"
    ]
   },
   "source": [
    "**Exercice** : Écrire une fonction `void add(darray*, int)` telle que `add(darray* d, int e)` ajoute `e` à `d`. Si la capacité de `d` est insuffisante, on crééra un nouveau tableau `t` de taille deux fois plus grande.  \n",
    "**Attention** : Ne pas oublier le `free`."
   ]
  },
  {
   "cell_type": "code",
   "execution_count": 6,
   "id": "85a2136b-a474-4668-8c04-9856bb75a8ec",
   "metadata": {},
   "outputs": [],
   "source": [
    "void add(darray*d,int e){\n",
    "    if ((d->size)==(d->capacity)){\n",
    "        int*tab=(int*)malloc(((d->size)*2)*(sizeof(int)));\n",
    "        copy(d->t,tab,d->size);\n",
    "        tab[d->size]=0;\n",
    "        d->t=tab;\n",
    "        d->size = d->size+1;\n",
    "        d->capacity = (d->capacity)*2;\n",
    "    }\n",
    "    d->t[(d->size)-1]=e;\n",
    "}\n",
    "int tab[] = {1,2,3,4,5};\n",
    "darray* dar = empty();\n",
    "dar->t=tab;\n",
    "dar->size=5;\n",
    "dar->capacity=5;\n",
    "add(dar,6)"
   ]
  },
  {
   "cell_type": "code",
   "execution_count": 7,
   "id": "2c2c3b6e-7c36-45d8-b2f6-fdfb42fdd046",
   "metadata": {},
   "outputs": [
    {
     "data": {
      "text/plain": [
       "1"
      ]
     },
     "execution_count": 7,
     "metadata": {},
     "output_type": "execute_result"
    }
   ],
   "source": [
    "dar->t[0]"
   ]
  },
  {
   "cell_type": "code",
   "execution_count": 8,
   "id": "293bce84-f94d-40f4-b903-26d0bd7baa43",
   "metadata": {},
   "outputs": [
    {
     "data": {
      "text/plain": [
       "2"
      ]
     },
     "execution_count": 8,
     "metadata": {},
     "output_type": "execute_result"
    }
   ],
   "source": [
    "dar->t[1]"
   ]
  },
  {
   "cell_type": "code",
   "execution_count": 9,
   "id": "0b2a260e-a70b-4a71-a053-54b8460bb8ac",
   "metadata": {},
   "outputs": [
    {
     "data": {
      "text/plain": [
       "3"
      ]
     },
     "execution_count": 9,
     "metadata": {},
     "output_type": "execute_result"
    }
   ],
   "source": [
    "dar->t[2]"
   ]
  },
  {
   "cell_type": "code",
   "execution_count": 10,
   "id": "d0f9a4cd-07af-4fc9-80a4-432fed80b9af",
   "metadata": {
    "tags": []
   },
   "outputs": [
    {
     "data": {
      "text/plain": [
       "4"
      ]
     },
     "execution_count": 10,
     "metadata": {},
     "output_type": "execute_result"
    }
   ],
   "source": [
    "dar->t[3]"
   ]
  },
  {
   "cell_type": "code",
   "execution_count": 11,
   "id": "19b3ad59-6583-4748-8930-52355d9eb0f7",
   "metadata": {},
   "outputs": [
    {
     "data": {
      "text/plain": [
       "5"
      ]
     },
     "execution_count": 11,
     "metadata": {},
     "output_type": "execute_result"
    }
   ],
   "source": [
    "dar->t[4]"
   ]
  },
  {
   "cell_type": "code",
   "execution_count": 12,
   "id": "96c8b80c-1c11-4554-a13f-f943785c93fc",
   "metadata": {},
   "outputs": [
    {
     "data": {
      "text/plain": [
       "6"
      ]
     },
     "execution_count": 12,
     "metadata": {},
     "output_type": "execute_result"
    }
   ],
   "source": [
    "dar->t[5]"
   ]
  },
  {
   "cell_type": "code",
   "execution_count": 14,
   "id": "0c351352-2580-400f-bc63-2a5274264eec",
   "metadata": {},
   "outputs": [
    {
     "data": {
      "text/plain": [
       "6"
      ]
     },
     "execution_count": 14,
     "metadata": {},
     "output_type": "execute_result"
    }
   ],
   "source": [
    "dar->size"
   ]
  },
  {
   "cell_type": "code",
   "execution_count": 15,
   "id": "4475e11b-d1ed-4683-a6d7-fb8c9811ce91",
   "metadata": {},
   "outputs": [
    {
     "data": {
      "text/plain": [
       "10"
      ]
     },
     "execution_count": 15,
     "metadata": {},
     "output_type": "execute_result"
    }
   ],
   "source": [
    "dar->capacity"
   ]
  }
 ],
 "metadata": {
  "kernelspec": {
   "display_name": "C++14",
   "language": "C++14",
   "name": "xcpp14"
  },
  "language_info": {
   "codemirror_mode": "text/x-c++src",
   "file_extension": ".cpp",
   "mimetype": "text/x-c++src",
   "name": "c++",
   "version": "14"
  }
 },
 "nbformat": 4,
 "nbformat_minor": 5
}
