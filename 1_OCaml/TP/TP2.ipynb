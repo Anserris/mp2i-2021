{
 "cells": [
  {
   "cell_type": "markdown",
   "id": "5d6a2457",
   "metadata": {},
   "source": [
    "# TP 2 : récursivité et conditions\n",
    "\n",
    "Dans tout le TP, il est interdit d'utiliser des boucles (pas de `for` ni `while`).\n",
    "\n",
    "Rappel : pensez à tester toutes vos fonctions sur des exemples."
   ]
  },
  {
   "cell_type": "markdown",
   "id": "42f52927",
   "metadata": {},
   "source": [
    "## Petites questions\n",
    "\n",
    "1. Définir une fonction `divise` telle que `divise a b` renvoie `true` si  `a` divise `b`, `false` sinon. Il est interdit d'utiliser `if`.\n",
    "2. Définir une fonction récursive `somme` telle que `somme n` renvoie $\\sum_{k=1}^n k^2$.\n",
    "3. Définir une fonction récursive `u` telle que `u n` renvoie $u_n$ définie par :\n",
    "$$u_0 = 42$$\n",
    "$$u_{n} = 3\\sqrt{u_{n - 1}} + 2$$\n",
    "4. Définir une fonction récursive `v` telle que `v a n` renvoie $v_n$ définie par (on fera attention à n'utiliser qu'un appel récursif) :\n",
    "$$v_0 = a$$\n",
    "$$v_{n + 1} = \\frac{1}{2}(v_n + \\frac{a}{v_n})$$\n",
    "5. Calculer `v a n` pour plusieurs valeurs de `a` et de `n` : que peut-on conjecturer sur la limite de $v_n$ ? Optionnel : le démontrer.  \n",
    "6. Soient $a$ et $b$ deux entiers et $q, r$ le quotient et reste de la division euclidienne de $a$ par $b$ ($a = bq + r$). En utilisant le fait que $PGCD(a, b)$ = $PGCD(b, r)$, écrire une fonction `euclide` telle que `euclide a b` renvoie le PGCD de $a$ et $b$."
   ]
  },
  {
   "cell_type": "code",
   "execution_count": 3,
   "id": "8d129ef3-05e4-47d5-a2d7-e72539897ac1",
   "metadata": {},
   "outputs": [
    {
     "data": {
      "text/plain": [
       "val divise : int -> int -> bool = <fun>\n"
      ]
     },
     "execution_count": 3,
     "metadata": {},
     "output_type": "execute_result"
    },
    {
     "data": {
      "text/plain": [
       "- : bool = true\n"
      ]
     },
     "execution_count": 3,
     "metadata": {},
     "output_type": "execute_result"
    }
   ],
   "source": [
    "(*1*)let divise a b =\n",
    "    a mod b = 0 ;;\n",
    "divise 2 1"
   ]
  },
  {
   "cell_type": "code",
   "execution_count": 23,
   "id": "23c3c67e-bc32-48e4-8545-f80ae714ce98",
   "metadata": {},
   "outputs": [
    {
     "data": {
      "text/plain": [
       "val somme : float -> float = <fun>\n"
      ]
     },
     "execution_count": 23,
     "metadata": {},
     "output_type": "execute_result"
    },
    {
     "data": {
      "text/plain": [
       "- : float = 5.\n"
      ]
     },
     "execution_count": 23,
     "metadata": {},
     "output_type": "execute_result"
    }
   ],
   "source": [
    "(*2*)let rec somme n = \n",
    "    if n = 1. then 1.\n",
    "    else n**2. +.somme(n-.1.);;\n",
    "somme 2."
   ]
  },
  {
   "cell_type": "code",
   "execution_count": 30,
   "id": "8ee8385f-7f8f-44dd-b06e-0268f15fb6c0",
   "metadata": {},
   "outputs": [
    {
     "data": {
      "text/plain": [
       "val u : float -> float = <fun>\n"
      ]
     },
     "execution_count": 30,
     "metadata": {},
     "output_type": "execute_result"
    },
    {
     "data": {
      "text/plain": [
       "- : float = 15.8917241139108523\n"
      ]
     },
     "execution_count": 30,
     "metadata": {},
     "output_type": "execute_result"
    }
   ],
   "source": [
    "(*3*)let rec u n =\n",
    "    if n = 0. then 42.\n",
    "    else 3.*.(u(n-.1.))**0.5 +.2.;;\n",
    "u 2."
   ]
  },
  {
   "cell_type": "code",
   "execution_count": 1,
   "id": "14290755-f91c-478f-b1d4-ed34a182f32f",
   "metadata": {},
   "outputs": [
    {
     "data": {
      "text/plain": [
       "val v : float -> float -> float = <fun>\n"
      ]
     },
     "execution_count": 1,
     "metadata": {},
     "output_type": "execute_result"
    },
    {
     "data": {
      "text/plain": [
       "- : float = 1.41666666666666652\n"
      ]
     },
     "execution_count": 1,
     "metadata": {},
     "output_type": "execute_result"
    },
    {
     "data": {
      "text/plain": [
       "- : float = 1.73205080756887719\n"
      ]
     },
     "execution_count": 1,
     "metadata": {},
     "output_type": "execute_result"
    },
    {
     "data": {
      "text/plain": [
       "- : float = 1.73205080756887719\n"
      ]
     },
     "execution_count": 1,
     "metadata": {},
     "output_type": "execute_result"
    },
    {
     "data": {
      "text/plain": [
       "- : float = 3.16227766016837908\n"
      ]
     },
     "execution_count": 1,
     "metadata": {},
     "output_type": "execute_result"
    },
    {
     "ename": "interrupt",
     "evalue": "intterupt",
     "output_type": "error",
     "traceback": [
      "\u001b[31mException: Sys.Break.\u001b[0m"
     ]
    }
   ],
   "source": [
    "(*4*)let rec v a n =\n",
    "    if n = 0. then a\n",
    "    else (1./.2.)*.(v a( n-.1.)+.a/.v a(n-.1.));;\n",
    "v 2. 2.;;\n",
    "v 3. 5.;;\n",
    "v 3. 7.;;\n",
    "v 10. 20.;;\n",
    "(*on peut conjecturer que quand n tend vers l'infini v(a,n) converge vers racine de a*)"
   ]
  },
  {
   "cell_type": "code",
   "execution_count": 6,
   "id": "b4829b53-4325-4b7a-8f5b-a54c49d32b4c",
   "metadata": {},
   "outputs": [
    {
     "data": {
      "text/plain": [
       "val euclide : int -> int -> int = <fun>\n"
      ]
     },
     "execution_count": 6,
     "metadata": {},
     "output_type": "execute_result"
    },
    {
     "data": {
      "text/plain": [
       "- : int = 12\n"
      ]
     },
     "execution_count": 6,
     "metadata": {},
     "output_type": "execute_result"
    }
   ],
   "source": [
    "(*6*)let rec euclide a b = \n",
    "    if a mod b = 0 then b\n",
    "    else euclide b (a mod b);;\n",
    "euclide 12 12"
   ]
  },
  {
   "cell_type": "markdown",
   "id": "7cf05809",
   "metadata": {},
   "source": [
    "## Exponentiation rapide\n",
    "\n",
    "1. Écrire une fonction récursive `puissance` naïve (c'est à dire très simple) telle que `puissance a n` renvoie $a^n$. Combien effectue t-elle de multiplications (en fonction de n) ?\n",
    "2. Écrire une fonction récursive `exp_rapide` pour calculer $a^n$, en utilisant les relations suivantes :\n",
    "$$ \n",
    "\\begin{cases} \n",
    "a^n = (a^{\\frac{n}{2}})^2 ~~~~~~~~~\\text{si }n\\text{ est pair}\\\\\n",
    "a^{n} = a \\times (a^{\\frac{n-1}{2}})^2 ~~~~~\\text{sinon}\n",
    "\\end{cases}\n",
    "$$\n",
    "**Attention** : pour mettre au carré, utiliser une variable plutôt que faire 2 appels récursifs, ce qui augmenterait beaucoup le nombre d'opérations.  \n",
    "**Remarque** : On montrera plus tard que cette 2ème version demande de l'ordre de $\\ln(n)$ multiplications seulement."
   ]
  },
  {
   "cell_type": "code",
   "execution_count": 1,
   "id": "70e3f053-df66-4992-b0b5-20f3419ae76d",
   "metadata": {},
   "outputs": [
    {
     "data": {
      "text/plain": [
       "val puissance : int -> int -> int = <fun>\n"
      ]
     },
     "execution_count": 1,
     "metadata": {},
     "output_type": "execute_result"
    },
    {
     "data": {
      "text/plain": [
       "- : int = 27\n"
      ]
     },
     "execution_count": 1,
     "metadata": {},
     "output_type": "execute_result"
    }
   ],
   "source": [
    "(*1*)let rec puissance a n =\n",
    "    if n = 0 then 1\n",
    "    else puissance a (n-1)*a;;\n",
    "puissance 3 3\n",
    "(*Elle effectue n opérations*)"
   ]
  },
  {
   "cell_type": "code",
   "execution_count": 6,
   "id": "2f80761f-67d2-49f7-bf29-fcd72858f798",
   "metadata": {},
   "outputs": [
    {
     "data": {
      "text/plain": [
       "val exp_rapide : int -> int -> int = <fun>\n"
      ]
     },
     "execution_count": 6,
     "metadata": {},
     "output_type": "execute_result"
    },
    {
     "data": {
      "text/plain": [
       "- : int = 32\n"
      ]
     },
     "execution_count": 6,
     "metadata": {},
     "output_type": "execute_result"
    }
   ],
   "source": [
    "(*2*)let rec exp_rapide a n =\n",
    "    if n = 0 then 1\n",
    "    else if n mod 2 = 0 then let b = exp_rapide a (n/2) in b*b\n",
    "    else let c = exp_rapide a ((n-1)/2) in a*c*c;;\n",
    "exp_rapide 2 5"
   ]
  },
  {
   "cell_type": "markdown",
   "id": "f299ef52",
   "metadata": {},
   "source": [
    "# Accumulateur\n",
    "\n",
    "On a vu dans le cours sur la récursivité (avec l'exemple de la suite de Fibonacci) qu'un accumulateur est un argument que l'on ajoute à une fonction pour calculer sa valeur de retour.  \n",
    "1. Écrire une fonction `fact` telle que `fact acc n` renvoie `n`!, en utilisant `acc` comme accumulateur. Voici à quoi va ressemble `fact` :\n",
    "```ocaml\n",
    "let rec fact acc n =\n",
    "    if n = 0 then acc  (* on renvoie l'accumulateur qui contient le résultat *)\n",
    "    else fact ... (* appel récursif en modifiant l'accumulateur *)\n",
    "```\n",
    "2. En utilisant `fact` et l'application partielle de fonction, définir `f : int -> int` renvoyant la factoielle d'un entier.\n",
    "\n",
    "**Remarque** : le but ici est juste de vous entraîner à savoir utiliser un accumulateur, qui sont parfois utiles (comme pour la fonction `fibo` du cours). En DS ou concours on évitera d'utiliser un accumulateur lorsqu'il y en a pas besoin (comme pour la fonction `fact`...), car cela rend le code plus compliqué.  "
   ]
  },
  {
   "cell_type": "code",
   "execution_count": 13,
   "id": "ec67792a-066e-4a77-b269-bb9bf81acf92",
   "metadata": {},
   "outputs": [
    {
     "data": {
      "text/plain": [
       "- : int = 6\n"
      ]
     },
     "execution_count": 13,
     "metadata": {},
     "output_type": "execute_result"
    }
   ],
   "source": [
    "(*1*)let rec fact acc n =\n",
    "    if n = 0 then acc\n",
    "    else fact (acc*n) (n-1) in\n",
    "fact 1 3"
   ]
  },
  {
   "cell_type": "code",
   "execution_count": 19,
   "id": "918262b9-d579-46f0-a412-51cc05c7a79b",
   "metadata": {},
   "outputs": [
    {
     "data": {
      "text/plain": [
       "val ffact : int -> int = <fun>\n"
      ]
     },
     "execution_count": 19,
     "metadata": {},
     "output_type": "execute_result"
    },
    {
     "data": {
      "text/plain": [
       "- : int = 0\n"
      ]
     },
     "execution_count": 19,
     "metadata": {},
     "output_type": "execute_result"
    }
   ],
   "source": [
    "(*2*)let ffact n = fact 1 n ;;\n",
    "ffact 3"
   ]
  },
  {
   "cell_type": "markdown",
   "id": "56db1136",
   "metadata": {},
   "source": [
    "## Temps de vol de la suite de Syracuse\n",
    "\n",
    "La suite de Syracuse d'un entier $a$ est définie par :  \n",
    "$$u_0 = a$$\n",
    "$$u_{n+1} =\n",
    "\\begin{cases} \n",
    "     \\frac{u_n}{2}, \\text{si } n \\text{ est pair}\\\\\n",
    "    3u_n + 1, \\text{sinon}\\\\\n",
    "\\end{cases}$$\n",
    "\n",
    "Le temps de vol de $(u_n)_n$ est le plus petit entier $t$ tel que $u_t = 1$.  \n",
    "\n",
    "1. Écrire une fonction récursive `temps_vol` telle que `temps_vol a` renvoie le temps de vol de $(u_n)_n$ (où $u_0 = a$)."
   ]
  },
  {
   "cell_type": "code",
   "execution_count": 74,
   "id": "c4b2ec87-38dd-46ad-b4cf-3ffa7571ce5b",
   "metadata": {},
   "outputs": [
    {
     "data": {
      "text/plain": [
       "val temps_vol : int -> int = <fun>\n"
      ]
     },
     "execution_count": 74,
     "metadata": {},
     "output_type": "execute_result"
    },
    {
     "name": "stdout",
     "output_type": "stream",
     "text": [
      "14\n",
      "7\n",
      "22\n",
      "11\n",
      "34\n",
      "17\n",
      "52\n",
      "26\n",
      "13\n",
      "40\n",
      "20\n",
      "10\n",
      "5\n",
      "16\n",
      "8\n",
      "4\n",
      "2\n",
      "1\n"
     ]
    },
    {
     "data": {
      "text/plain": [
       "- : int = 1\n"
      ]
     },
     "execution_count": 74,
     "metadata": {},
     "output_type": "execute_result"
    }
   ],
   "source": [
    "let rec temps_vol a =\n",
    "    print_int(a);\n",
    "    print_newline ();\n",
    "    if a<= 1 then 1\n",
    "    else if a mod 2 = 0 then temps_vol (a/2)\n",
    "    else temps_vol (3*a+1);;\n",
    "temps_vol 14"
   ]
  },
  {
   "cell_type": "markdown",
   "id": "c0cc5d04",
   "metadata": {},
   "source": [
    "## Fonction mystérieuse\n",
    "\n",
    "Tester la fonction suivante, conjecturer un théorème et prouvez-le par récurrence."
   ]
  },
  {
   "cell_type": "code",
   "execution_count": 86,
   "id": "baa1edde",
   "metadata": {
    "tags": []
   },
   "outputs": [
    {
     "data": {
      "text/plain": [
       "val f : int -> int = <fun>\n"
      ]
     },
     "execution_count": 86,
     "metadata": {},
     "output_type": "execute_result"
    },
    {
     "data": {
      "text/plain": [
       "- : int = 91\n"
      ]
     },
     "execution_count": 86,
     "metadata": {},
     "output_type": "execute_result"
    },
    {
     "data": {
      "text/plain": [
       "- : int = 91\n"
      ]
     },
     "execution_count": 86,
     "metadata": {},
     "output_type": "execute_result"
    },
    {
     "data": {
      "text/plain": [
       "- : int = 92\n"
      ]
     },
     "execution_count": 86,
     "metadata": {},
     "output_type": "execute_result"
    }
   ],
   "source": [
    "let rec f n =\n",
    "    if n > 100 then n - 10 \n",
    "    else f (f (n + 11)) ;;\n",
    "f 0;;\n",
    "f 101;;\n",
    "f 102;;\n",
    "(* pour tout n de 0 à 101 inclus la fonction renvoie 91 et pour tout n allant de 102 à plus l'infini \n",
    "la fonction renvoie n-10 *)"
   ]
  },
  {
   "cell_type": "markdown",
   "id": "5ce213d3",
   "metadata": {},
   "source": [
    "## Fonctions mutuellement récursives\n",
    "\n",
    "Il est possible de définir simultanément deux fonctions `f` et `g`, dépendant l'une de l'autre avec `and` :\n",
    "```ocaml\n",
    "let rec f x = ... and g y = ... in ...\n",
    "```\n",
    "\n",
    "Écrire deux fonctions `u` et `v` permettant de calculer le $nième$ terme des suites définies par :\n",
    "$$u_0 = 2$$\n",
    "$$v_0 = 3$$\n",
    "$$u_{n + 1} = u_n - u_n v_n$$\n",
    "$$v_{n + 1} = v_n + u_n v_n$$"
   ]
  },
  {
   "cell_type": "code",
   "execution_count": 93,
   "id": "3c1a75a2-71e7-4324-b852-ed0fa9aad58e",
   "metadata": {},
   "outputs": [
    {
     "data": {
      "text/plain": [
       "val u : int -> int = <fun>\n",
       "val v : int -> int = <fun>\n"
      ]
     },
     "execution_count": 93,
     "metadata": {},
     "output_type": "execute_result"
    },
    {
     "data": {
      "text/plain": [
       "- : int = -2424229655480369152\n"
      ]
     },
     "execution_count": 93,
     "metadata": {},
     "output_type": "execute_result"
    }
   ],
   "source": [
    "let rec u n =\n",
    "    (if n = 0 then 2 else u ((n-1)) -(u (n-1)) * (v (n-1))) and\n",
    "    v n = (if n = 0 then 3 else (v (n-1)) + (u (n-1))*(v (n-1)));;\n",
    "u 10;;"
   ]
  },
  {
   "cell_type": "markdown",
   "id": "93314856",
   "metadata": {},
   "source": [
    "## Retour sur les tours de Hanoi\n",
    "\n",
    "**Remarque** : le problème des tours de Hanoi a déjà été vu en stage, mais on le refait ici en OCaml. En outre, il est utile de réactiver sa mémoire pour se souvenir des méthodes et il m'arrivera pendant l'année de redonner des exercices déjà posés."
   ]
  },
  {
   "cell_type": "markdown",
   "id": "83ab905e",
   "metadata": {},
   "source": [
    "![](../img/hanoi.png)\n",
    "\n",
    "$n$ disques sont posés sur la tige à gauche. L'objectif est de déplacer tous les disques sur la tige à droite :\n",
    "\n",
    "![](../img/hanoi2.png)\n",
    "\n",
    "Règles du jeu :\n",
    "\n",
    "- On ne peut déplacer qu'un disque à la fois (celui tout en haut), sur une autre tige.\n",
    "- Il est interdit de poser un disque sur un autre plus petit.\n",
    "\n",
    "Exemple de premier déplacement valide :\n",
    "\n",
    "![](../img/hanoi3.png)\n",
    "\n",
    "On souhaite écrire une fonction récursive `hanoi` telle que `hanoi n tige1 tige2` affiche une suite de déplacements (avec des `print_int`) permettant de déplacer $n$ disques depuis `tige1` vers `tige2`. On supposera que les tiges sont numérotées 0, 1, 2 (de gauche à droite).\n",
    "\n",
    "1. Supposons que vous sachiez déplacer $n-1$ disques d'une tige à une autre. Comment déplacer $n$ disques d'une tige à une autre ?\n",
    "2. Écrire `hanoi`."
   ]
  },
  {
   "cell_type": "code",
   "execution_count": 21,
   "id": "5c7d0542-f04b-486d-ae08-f9d487a347e9",
   "metadata": {},
   "outputs": [
    {
     "data": {
      "text/plain": [
       "val hanoi : int -> int -> int -> unit = <fun>\n"
      ]
     },
     "execution_count": 21,
     "metadata": {},
     "output_type": "execute_result"
    },
    {
     "name": "stdout",
     "output_type": "stream",
     "text": [
      "Déplacer 0 vers 1\n",
      "Déplacer 0 vers 2\n",
      "Déplacer 2 vers 0\n",
      "Déplacer 0 vers 1\n",
      "Déplacer 1 vers 2\n",
      "Déplacer 1 vers 0\n",
      "Déplacer 0 vers 1\n"
     ]
    },
    {
     "data": {
      "text/plain": [
       "- : unit = ()\n"
      ]
     },
     "execution_count": 21,
     "metadata": {},
     "output_type": "execute_result"
    }
   ],
   "source": [
    "let rec hanoi n tige1 tige2 = \n",
    "    if n = 0 then ()\n",
    "    else let k = 3 -tige1 -tige2 in\n",
    "    hanoi (n-1) tige1 k;\n",
    "    print_string \"Déplacer \";\n",
    "    print_int tige1;\n",
    "    print_string \" vers \";\n",
    "    print_int k;\n",
    "    print_newline();\n",
    "    hanoi(n-1) k tige2;;\n",
    "hanoi 3 0 2"
   ]
  },
  {
   "cell_type": "code",
   "execution_count": null,
   "id": "54196404-6b3f-4b67-8fce-1ccf3b5811cc",
   "metadata": {},
   "outputs": [],
   "source": []
  }
 ],
 "metadata": {
  "kernelspec": {
   "display_name": "OCaml default",
   "language": "OCaml",
   "name": "ocaml-jupyter"
  },
  "language_info": {
   "codemirror_mode": "text/x-ocaml",
   "file_extension": ".ml",
   "mimetype": "text/x-ocaml",
   "name": "OCaml",
   "nbconverter_exporter": null,
   "pygments_lexer": "OCaml",
   "version": "4.08.1"
  }
 },
 "nbformat": 4,
 "nbformat_minor": 5
}
